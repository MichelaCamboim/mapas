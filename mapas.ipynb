{
 "cells": [
  {
   "cell_type": "markdown",
   "metadata": {},
   "source": [
    "<h1 style=\"text-align: center;\">\n",
    "<b>Gastos Hospitalares</b>\n",
    "</h1>\n",
    "\n",
    "<h3 style=\"text-align: justify;\">\n",
    "Script para criação de mapas com dados de gastos hospitalares no Brasil.\n",
    "</h3>\n",
    "\n",
    "<p style='text-align: justify;'>\n",
    "Os dados presentes nas análises foram extraídos do Tabnet. O Tabnet é uma \n",
    "ferramenta desenvolvida pelo Departamento de Informação e Informática do Sistema \n",
    "Único de Saúde (DataSUS) da Secretaria de Informação e Saúde Digital do Ministério\n",
    "da Saúde (MS). Esta ferramenta abrange dados epidemiológicos, de mortalidade, \n",
    "da rede assistencial, de internações hospitalares, de procedimentos realizados \n",
    "na atenção primária, entre outras.\n",
    "Para este trabalho, foram usadas as informações do Sistema de Informações \n",
    "Hospitalares (SIH), referentes às internações hospitalares aprovadas no período \n",
    "de 2014 a 2022. Foram usados os dados de Autorização de Internação Hospitalar \n",
    "(AIH) no formato reduzido (RD) com abrangência geográfica no nível municipal. \n",
    "Foi selecionado para o campo linha os municípios brasileiros. Para as colunas, \n",
    "foi selecionado o ano/mês de processamento.\n",
    "</p>\n",
    "\n",
    "<h4 style=\"text-align: justify;\">\n",
    "<b>Gastos Hospitalares</b>\n",
    "<h4>\n",
    "\n",
    "<p style=\"text-align: justify;\">\n",
    "O valor do gasto hospitalar representa o valor total dos procedimentos presentes na AIH realizados naquela internação. Esse valores são regulamentados pela Tabela Unificada de Procedimentos, Medicamentos e Órteses, Próteses e Materiais Especiais do SUS (SIGTAP).\n",
    "</p>\n",
    "\n",
    "<h4 style=\"text-align: justify;\">\n",
    "<b>Mortalidade</b>\n",
    "<h4>\n",
    "\n",
    "<p style=\"text-align: justify;\">\n",
    "A taxa de mortalidade é calculada pela razão entre o número de óbitos e número de internações, dada também pelo TabNet.\n",
    "</p>\n",
    "\n",
    "<h4 style=\"text-align: justify;\">\n",
    "<b>População</b>\n",
    "<h4>\n",
    "<p style='text-align: justify;'>\n",
    "Os dados de população dos municípios utilizados neste trabalho, foram obtidas a partirde duas fontes. Para os anos de 2014 a 2021, foram utilizadas as estimativas preliminares\n",
    "elaboradas pelo Ministério da Saúde, disponibilizados pelo TabNet.\n",
    "</p>\n",
    "<p style='text-align: justify;'>\n",
    "O dado de população em 2022 foi obtido no site do Instituto Brasileiro de Geografia eEstatística - IBGE.\n",
    "</p>\n",
    "\n",
    "<p style=\"text-align: justify;\">\n",
    "<b>Acesse os dados no portal</b>\n",
    "\n",
    "[Datasus Saúde Governo Federal](https://datasus.saude.gov.brinformacoes-de-saude-tabnet/)\n",
    "</p>\n",
    "\n",
    "<p style=\"text-align: justify;\">\n",
    "\n",
    "[Panorama Censo 2022 - IBGE](https://censo2022.ibge.gov.br/panorama/)\n",
    "</p>\n",
    "\n",
    "<p style=\"text-align: justify;\">\n",
    "___________________________________________\n"
   ]
  },
  {
   "cell_type": "code",
   "execution_count": null,
   "metadata": {},
   "outputs": [],
   "source": [
    "import geobr\n",
    "import matplotlib.pyplot as plt\n",
    "import pandas as pd\n",
    "\n",
    "%matplotlib inline"
   ]
  },
  {
   "cell_type": "code",
   "execution_count": null,
   "metadata": {},
   "outputs": [],
   "source": [
    "df = pd.read_excel('base_tratada.xlsx', engine='openpyxl')\n",
    "\n",
    "df.head()"
   ]
  },
  {
   "cell_type": "code",
   "execution_count": null,
   "metadata": {},
   "outputs": [],
   "source": [
    "# criando um novo df com ano de 2022 \n",
    "\n",
    "\n",
    "df_2022 = df[df['ano'] == 2022].reset_index(drop=True)\n",
    "\n",
    "df_2022['cod_ibge'] = df_2022['cod_ibge'].apply(lambda x: str(x))\n",
    "df_2022.head()"
   ]
  },
  {
   "cell_type": "code",
   "execution_count": null,
   "metadata": {},
   "outputs": [],
   "source": [
    "df_2022.info()"
   ]
  },
  {
   "cell_type": "code",
   "execution_count": null,
   "metadata": {},
   "outputs": [],
   "source": [
    "# importando a malha municipal do geobr\n",
    "\n",
    "muni = geobr.read_municipality(year=2020)\n",
    "muni"
   ]
  },
  {
   "cell_type": "code",
   "execution_count": null,
   "metadata": {},
   "outputs": [],
   "source": [
    "# ajeitando a variável de código municipal para ser compativel com a base de dados\n",
    "# deixando código municípal com 6 dígitos\n",
    "\n",
    "muni['cod_municipal'] = muni['code_muni'].apply(lambda x: str(int(x)))\n",
    "\n",
    "muni['cod_municipal'] = muni['cod_municipal'].str[:-1]\n",
    "\n",
    "muni.head()"
   ]
  },
  {
   "cell_type": "code",
   "execution_count": null,
   "metadata": {},
   "outputs": [],
   "source": [
    "#juntando a malha com a base\n",
    "\n",
    "muni = muni.merge(df_2022, how=\"left\", left_on=\"cod_municipal\", right_on=\"cod_ibge\")\n",
    "muni.head()"
   ]
  },
  {
   "cell_type": "code",
   "execution_count": null,
   "metadata": {},
   "outputs": [],
   "source": [
    "# plotando mapa dos gastos hospitalares em 2022\n",
    "\n",
    "\n",
    "plt.rcParams.update({\"font.size\": 5})\n",
    "\n",
    "fig, ax = plt.subplots(figsize=(4, 4), dpi=200)\n",
    "\n",
    "muni.plot(\n",
    "    column=\"gastos\",\n",
    "    cmap=\"RdYlGn_r\",\n",
    "    legend=True,\n",
    "    ax=ax,\n",
    ")\n",
    "\n",
    "ax.set_title(\"Gastos Hospitalares no Brasil em 2022\")\n",
    "ax.axis(\"off\")"
   ]
  },
  {
   "cell_type": "code",
   "execution_count": null,
   "metadata": {},
   "outputs": [],
   "source": [
    "# plotando mapa da taxa de mortalidade em 2022\n",
    "\n",
    "\n",
    "plt.rcParams.update({\"font.size\": 5})\n",
    "\n",
    "fig, ax = plt.subplots(figsize=(4, 4), dpi=200)\n",
    "\n",
    "muni.plot(\n",
    "    column=\"mortalidade\",\n",
    "    cmap=\"RdYlGn_r\",\n",
    "    legend=True,\n",
    "    ax=ax,\n",
    ")\n",
    "\n",
    "ax.set_title(\"Mortalidade Hospitalar em 2022\")\n",
    "ax.axis(\"off\")"
   ]
  },
  {
   "cell_type": "code",
   "execution_count": null,
   "metadata": {},
   "outputs": [],
   "source": [
    "# agrupando dados por uf e ano\n",
    "\n",
    "uf_22 = df_2022.groupby('uf').agg({'gastos': 'sum', 'mortalidade': 'mean', \n",
    "                                           'populacao': 'sum'}).reset_index()\n",
    "\n",
    "uf_22.info()"
   ]
  },
  {
   "cell_type": "code",
   "execution_count": null,
   "metadata": {},
   "outputs": [],
   "source": [
    "states = geobr.read_state(year=2020)\n",
    "states = states.merge(uf_22, how=\"left\", left_on=\"abbrev_state\", right_on=\"uf\")\n",
    "states"
   ]
  },
  {
   "cell_type": "code",
   "execution_count": null,
   "metadata": {},
   "outputs": [],
   "source": [
    "\n",
    "# plotando mapa dos gastos por uf\n",
    "\n",
    "\n",
    "plt.rcParams.update({\"font.size\": 5})\n",
    "\n",
    "fig, ax = plt.subplots(figsize=(4, 4), dpi=200)\n",
    "\n",
    "states.plot(\n",
    "    column=\"gastos\",\n",
    "    cmap=\"RdYlGn_r\",\n",
    "    legend=True,\n",
    "    ax=ax,\n",
    ")\n",
    "\n",
    "ax.set_title(\"Gastos Hospitalares no Brasil em 2022\")\n",
    "ax.axis(\"off\")"
   ]
  },
  {
   "cell_type": "code",
   "execution_count": null,
   "metadata": {},
   "outputs": [],
   "source": [
    "\n",
    "# plotando mapa da mortalidade\n",
    "\n",
    "\n",
    "plt.rcParams.update({\"font.size\": 5})\n",
    "\n",
    "fig, ax = plt.subplots(figsize=(4, 4), dpi=200)\n",
    "\n",
    "states.plot(\n",
    "    column=\"mortalidade\",\n",
    "    cmap=\"RdYlGn_r\",\n",
    "    legend=True,\n",
    "    ax=ax,\n",
    ")\n",
    "\n",
    "ax.set_title(\"Mortalidade Hospitalar em 2022\")\n",
    "ax.axis(\"off\")"
   ]
  }
 ],
 "metadata": {
  "kernelspec": {
   "display_name": "myapp_streamlit",
   "language": "python",
   "name": "python3"
  },
  "language_info": {
   "codemirror_mode": {
    "name": "ipython",
    "version": 3
   },
   "file_extension": ".py",
   "mimetype": "text/x-python",
   "name": "python",
   "nbconvert_exporter": "python",
   "pygments_lexer": "ipython3",
   "version": "3.11.5"
  }
 },
 "nbformat": 4,
 "nbformat_minor": 2
}
